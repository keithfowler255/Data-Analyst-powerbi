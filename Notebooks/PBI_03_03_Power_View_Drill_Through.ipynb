{
 "cells": [
  {
   "cell_type": "markdown",
   "metadata": {},
   "source": [
    "# Drill Through"
   ]
  },
  {
   "cell_type": "markdown",
   "metadata": {},
   "source": [
    "## Develop a Master Report\n",
    "- In **Visulizations** > click on **Donut** Chart\n",
    "- In **Fields** Pane > Click on **Category** and **Total Sales**\n",
    "- Rename page as **Master**\n"
   ]
  },
  {
   "cell_type": "code",
   "execution_count": null,
   "metadata": {},
   "outputs": [],
   "source": [
    "## Develop a Detail Report\n",
    "- In **Visulizations** > click on **Table** Chart\n",
    "- In **Fields** Pane > Click on **Category** , **Segment** and **Total Sales**\n",
    "- \n",
    "- Rename page as **Detail**\n"
   ]
  }
 ],
 "metadata": {
  "kernelspec": {
   "display_name": "Python 3",
   "language": "python",
   "name": "python3"
  },
  "language_info": {
   "codemirror_mode": {
    "name": "ipython",
    "version": 3
   },
   "file_extension": ".py",
   "mimetype": "text/x-python",
   "name": "python",
   "nbconvert_exporter": "python",
   "pygments_lexer": "ipython3",
   "version": "3.6.9"
  }
 },
 "nbformat": 4,
 "nbformat_minor": 4
}
