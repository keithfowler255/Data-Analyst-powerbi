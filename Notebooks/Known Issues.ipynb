{
 "cells": [
  {
   "cell_type": "markdown",
   "metadata": {},
   "source": [
    "# Known Issues"
   ]
  },
  {
   "cell_type": "markdown",
   "metadata": {},
   "source": [
    "## MySQL Public Key Retrieval is not allowed\n",
    "1. Go to **DBeaver:**\n",
    "1. Right click your connection, choose \"Edit Connection\"\n",
    "1. On the \"Connection settings\" screen (main screen) click on \"Edit Driver Settings\"\n",
    "3) Click on \"Connection properties\"\n",
    "4) Right click the \"user properties\" area and choose \"Add new property\"\n",
    "5) Add two properties: \"useSSL\" and \"allowPublicKeyRetrieval\"\n",
    "6) Set their values to  \"false\" and \"true\" by double clicking on the \"value\" column\n",
    "Save and re-test the connection. Hopefully it should work!"
   ]
  }
 ],
 "metadata": {
  "kernelspec": {
   "display_name": "Python 3",
   "language": "python",
   "name": "python3"
  },
  "language_info": {
   "codemirror_mode": {
    "name": "ipython",
    "version": 3
   },
   "file_extension": ".py",
   "mimetype": "text/x-python",
   "name": "python",
   "nbconvert_exporter": "python",
   "pygments_lexer": "ipython3",
   "version": "3.6.9"
  }
 },
 "nbformat": 4,
 "nbformat_minor": 4
}
