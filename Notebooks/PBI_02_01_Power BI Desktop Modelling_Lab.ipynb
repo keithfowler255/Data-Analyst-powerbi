{
 "cells": [
  {
   "cell_type": "markdown",
   "metadata": {},
   "source": [
    "# `Power BI Desktop Modelling`"
   ]
  },
  {
   "cell_type": "markdown",
   "metadata": {},
   "source": [
    "## SCENARIO\n",
    "ABC is a company that manufactures and sells sporting goods. The company has offices in the United States (US) and several other countries. Its sales comprise of US sales and International sales. ABC’s sales come from its owned manufactured products, as well as other manufacturers’ products.\n",
    "\n",
    "You have successfully brought the US sales data from the Access database and the International sales data from a collection of CSV files to Power BI Desktop. \n",
    "\n",
    "Before you can start analyzing your data, you need to manage the table relationships within your data model and create new ones if necessary. To do so, you might need to create calculated columns or calculated tables for the relationships to be based on.\n",
    "Once you have all the relationships created, you can create visualizations and start to analyze the data. However, you need to create additional measures to perform more advanced analysis with your data, which includes:\n",
    "\n",
    "- Comparing last year sales and last year YTD sales.\n",
    "- Comparing sales of ABC's manufactured goods to other manufacturers.\n"
   ]
  },
  {
   "cell_type": "markdown",
   "metadata": {},
   "source": [
    "## LAB OVERVIEW"
   ]
  },
  {
   "cell_type": "markdown",
   "metadata": {},
   "source": [
    "In this lab, you will create calculated columns, calculated tables, and create table relationships in your data model based on the calculated columns and tables you created. In addition, you will write several DAX expressions to create measures to be used to analyze ABC’s sales data. Specifically, you will create the following measures:\n",
    "1. Total Sales: calculates the total sales.\n",
    "2. LY Sales: calculates last year sales.\n",
    "3. Sales Var: calculates sales variance between this year and last year sales.\n",
    "4. Sales Var %: calculates sales variance between this year and last year sales in percentage.\n",
    "5. YTD Sales: calculates YTD sales.\n",
    "6. LY YTD Sales: calculates last year YTD sales.\n",
    "7. YTD Sales Var: calculates sales variance between this year and last year YTD sales.\n",
    "8. YTD Sales Var %: calculates sales variance between this year and last year YTD sales in percentage.\n",
    "9. Total ABC Sales: calculates sales for ABC manufactured goods.\n",
    "10. % Sales Market Share: calculates the percentage of ABC manufactured goods from the total sales.\n",
    "\n"
   ]
  },
  {
   "cell_type": "markdown",
   "metadata": {},
   "source": [
    "## WHAT YOU’LL NEED\n",
    "The “Lab 2 - Starting.pbix” file"
   ]
  },
  {
   "cell_type": "markdown",
   "metadata": {},
   "source": [
    "## Exercise 1- Manage Table Relationships\n",
    "Power BI Desktop has automatically detected and created table relationships. So the first step is to ensure all the relationships are properly created, and if not, create them yourselves.\n",
    "\n",
    "\n",
    "1. Open the `Lab2 - Starting.pbix` file from our `Labdata/Lab2 folder`.\n",
    "2. In the navigation pane on the left, click `Model`.\n",
    "3. Notice that there is a many to one relationship from the `ProductID` column on the `Sales` table to the `ProductID` column on the `Products` table.\n",
    "4. Notice that there is a many to one relationship from the `ManufacturerID` column on the `Products` table to the `ManufacturerID` column on the `Manufacturers` table.\n",
    "5. Drag the `Date` column on the `Sales` table to the `Date` column on the `Date` table.\n",
    "6. Now you want to create a relationship between the `Sales` table and the `Locations` table. First, you merge the `Country` and `Zip` columns in both `Sales` and `Locations` table as a new column, `CountryZip`. Then, you create a relationship on the `CountryZip` column for both tables.\n",
    "    - In the navigation pane on the left, click `Data`.\n",
    "    - In the navigation pane on the right, click `Location`.\n",
    "    - On the Modeling ribbon, click New Column.\n",
    "    - In the formula bar for the new column, type `CountryZip = Location[Country] & \", \" & Location[Zip]`, and press Enter.\n",
    "    - In the navigation pane on the right, click Sales.\n",
    "    - On the Modeling ribbon, click New Column.\n",
    "    - In the formula bar for the new column, type CountryZip = Sales[Country Name] & \", \" & Sales[Zip], and press Enter.\n",
    "    - In the navigation pane on the left, click Model.\n",
    "    - Drag the CountryZip column on the Sales table to the CountryZip column on the Locations table.\n",
    "16. Click Save, to save the Power BI file."
   ]
  },
  {
   "cell_type": "code",
   "execution_count": null,
   "metadata": {},
   "outputs": [],
   "source": []
  }
 ],
 "metadata": {
  "kernelspec": {
   "display_name": "Python 3",
   "language": "python",
   "name": "python3"
  },
  "language_info": {
   "codemirror_mode": {
    "name": "ipython",
    "version": 3
   },
   "file_extension": ".py",
   "mimetype": "text/x-python",
   "name": "python",
   "nbconvert_exporter": "python",
   "pygments_lexer": "ipython3",
   "version": "3.6.9"
  },
  "toc-autonumbering": true
 },
 "nbformat": 4,
 "nbformat_minor": 4
}
