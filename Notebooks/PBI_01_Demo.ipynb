{
 "cells": [
  {
   "cell_type": "markdown",
   "metadata": {},
   "source": [
    "# Power BI Demo"
   ]
  },
  {
   "cell_type": "markdown",
   "metadata": {},
   "source": [
    "##  What is BI ?\n",
    "- DSS"
   ]
  },
  {
   "cell_type": "markdown",
   "metadata": {},
   "source": [
    "## Do you know any BI tools?\n",
    "1. Cognos\n",
    "2. Bo\n",
    "3. OBIEE\n",
    "4. Tableau\n",
    "5. Domo\n",
    "6. Qlick View/Sense\n",
    "7. Power BI\n",
    "... etc"
   ]
  },
  {
   "cell_type": "markdown",
   "metadata": {},
   "source": [
    "- price is less\n",
    "    - https://powerbi.microsoft.com/en-us/pricing/\n",
    "    - https://www.tableau.com/pricing/teams-orgs#online\n",
    "- out of above allBI tools power BI is best\n",
    "    - https://powerbi.microsoft.com/en-us/blog/microsoft-named-a-leader-in-gartners-2020-magic-quadrant-for-analytics-and-bi-platforms/"
   ]
  },
  {
   "cell_type": "markdown",
   "metadata": {},
   "source": [
    "# Do you know Power BI products?\n",
    "1. Power BI Desktop\n",
    "    - Create rich, interactive reports with visual analytics at your fingertips\n",
    "    - Go from `data` to `insight` to `action` with Power BI Desktop\n",
    "    - Connect to your data, wherever it is\n",
    "    - Prep and model your data with ease\n",
    "    - Provide advanced analytics with the familiarity of Excel\n",
    "    - Create interactive reports customized for your business\n",
    "    - Power BI Desktop\n",
    "        - Power BI Query Editor\n",
    "2. Power BI Service(MSFT Cloud)\n",
    "    - Dashboards are developed here\n",
    "    - Conduct data-driven collaboration\n",
    "    - Discover insights quickly\n",
    "    - Get more done with familiar tools\n",
    "    - Govern your data securely\n",
    "3. Power BI Mobile\n",
    "4. Power BI Embedded\n",
    "5. Power BI Report Server\n",
    "        "
   ]
  },
  {
   "cell_type": "code",
   "execution_count": null,
   "metadata": {},
   "outputs": [],
   "source": []
  }
 ],
 "metadata": {
  "kernelspec": {
   "display_name": "Python 3",
   "language": "python",
   "name": "python3"
  },
  "language_info": {
   "codemirror_mode": {
    "name": "ipython",
    "version": 3
   },
   "file_extension": ".py",
   "mimetype": "text/x-python",
   "name": "python",
   "nbconvert_exporter": "python",
   "pygments_lexer": "ipython3",
   "version": "3.6.9"
  },
  "toc-autonumbering": true
 },
 "nbformat": 4,
 "nbformat_minor": 4
}
