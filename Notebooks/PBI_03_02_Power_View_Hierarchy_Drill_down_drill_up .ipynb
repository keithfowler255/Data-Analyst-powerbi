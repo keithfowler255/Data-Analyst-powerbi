{
 "cells": [
  {
   "cell_type": "markdown",
   "metadata": {},
   "source": [
    "# Hierarchy"
   ]
  },
  {
   "cell_type": "markdown",
   "metadata": {},
   "source": [
    "- Can you use **drill down/drill up** without **Hierarchy** ?\n",
    "    - <input type=\"radio\" disabled> Yes\n",
    "    - <input type=\"radio\" disabled checked> No\n",
    "- Without Creating Hierarchy, can you drill down from **Category** to **segment** to **product**?   \n",
    "    - <input type=\"radio\" disabled> Yes\n",
    "    - <input type=\"radio\" disabled checked> No"
   ]
  },
  {
   "cell_type": "markdown",
   "metadata": {},
   "source": [
    "## Exercise 1: Develop a report **Total Sales by Category**\n",
    "- from fileds select total Sales and Category columns \n",
    "- select Stacked Column Chart\n",
    "- Click on any bar to  move from category to segmant. Are you able to move ??? no right??? so let us learn how to create hierarchy\n",
    "    ![](https://github.com/rritec/powerbi/blob/master/images/PBI_0049.png?raw=true)"
   ]
  },
  {
   "cell_type": "markdown",
   "metadata": {},
   "source": [
    "## Create Product Hierarchy"
   ]
  },
  {
   "cell_type": "code",
   "execution_count": null,
   "metadata": {},
   "outputs": [],
   "source": [
    "- In **Fields** Pane\n",
    "- Expand **Product** table\n",
    "- Select **Segment** and drag and drop on to **Category**\n",
    "- Observe \n"
   ]
  }
 ],
 "metadata": {
  "kernelspec": {
   "display_name": "Python 3",
   "language": "python",
   "name": "python3"
  },
  "language_info": {
   "codemirror_mode": {
    "name": "ipython",
    "version": 3
   },
   "file_extension": ".py",
   "mimetype": "text/x-python",
   "name": "python",
   "nbconvert_exporter": "python",
   "pygments_lexer": "ipython3",
   "version": "3.6.9"
  }
 },
 "nbformat": 4,
 "nbformat_minor": 4
}
