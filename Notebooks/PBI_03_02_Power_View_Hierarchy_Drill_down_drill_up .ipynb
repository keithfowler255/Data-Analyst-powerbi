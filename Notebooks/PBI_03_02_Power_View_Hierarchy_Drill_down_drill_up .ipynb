{
 "cells": [
  {
   "cell_type": "markdown",
   "metadata": {},
   "source": [
    "- Can you use **drill down/drill up** without **Hierarchy** ?\n",
    "    - <input type=\"radio\" disabled> Yes\n",
    "    - <input type=\"radio\" disabled checked> No\n",
    "- Without Creating Hierarchy, can you drill down from **Category** to **segment** to **product**?   \n",
    "    - <input type=\"radio\" disabled> Yes\n",
    "    - <input type=\"radio\" disabled checked> No"
   ]
  },
  {
   "cell_type": "code",
   "execution_count": null,
   "metadata": {},
   "outputs": [],
   "source": [
    "## Exercise 1: Develop a report **Total Sales by Category**\n",
    "- from fileds select total Sales and Category columns \n",
    "- select Stacked Column Chart\n",
    "- Click on any bar to  move from category to segma"
   ]
  }
 ],
 "metadata": {
  "kernelspec": {
   "display_name": "Python 3",
   "language": "python",
   "name": "python3"
  },
  "language_info": {
   "codemirror_mode": {
    "name": "ipython",
    "version": 3
   },
   "file_extension": ".py",
   "mimetype": "text/x-python",
   "name": "python",
   "nbconvert_exporter": "python",
   "pygments_lexer": "ipython3",
   "version": "3.6.9"
  }
 },
 "nbformat": 4,
 "nbformat_minor": 4
}
