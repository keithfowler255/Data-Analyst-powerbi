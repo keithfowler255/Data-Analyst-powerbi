{
 "cells": [
  {
   "cell_type": "markdown",
   "metadata": {},
   "source": [
    "# Data Analysis Expressions (DAX):\n",
    "1. Data Analysis Expressions (DAX) is a library of functions and operators that can be combined to build formulas and expressions in \n",
    "    - Power BI Desktop\n",
    "    - Azure Analysis Services\n",
    "    - SQL Server Analysis Services\n",
    "    - Power Pivot in Excel data models.\n",
    "1. DAX formulas include functions, operators, and values to perform advanced calculations and queries on data in related tables and columns in tabular data models.\n"
   ]
  },
  {
   "cell_type": "markdown",
   "metadata": {},
   "source": [
    "https://docs.microsoft.com/en-us/dax/"
   ]
  },
  {
   "cell_type": "code",
   "execution_count": null,
   "metadata": {},
   "outputs": [],
   "source": []
  }
 ],
 "metadata": {
  "kernelspec": {
   "display_name": "Python 3",
   "language": "python",
   "name": "python3"
  },
  "language_info": {
   "codemirror_mode": {
    "name": "ipython",
    "version": 3
   },
   "file_extension": ".py",
   "mimetype": "text/x-python",
   "name": "python",
   "nbconvert_exporter": "python",
   "pygments_lexer": "ipython3",
   "version": "3.6.9"
  }
 },
 "nbformat": 4,
 "nbformat_minor": 4
}
