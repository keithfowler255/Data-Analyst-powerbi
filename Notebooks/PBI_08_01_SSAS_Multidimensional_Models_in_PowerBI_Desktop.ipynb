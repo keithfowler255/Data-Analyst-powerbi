{
 "cells": [
  {
   "cell_type": "markdown",
   "metadata": {},
   "source": [
    "# SSAS Multidimensional Models(Cubes)"
   ]
  },
  {
   "cell_type": "markdown",
   "metadata": {},
   "source": [
    "## Download and Restore Sample Data\n",
    "\n",
    "1. Download Sample Data warehouse data **AdventureWorksDW2012.bak**\n",
    "\n",
    "    https://github.com/Microsoft/sql-server-samples/releases/download/adventureworks/AdventureWorksDW2012.bak\n",
    "\n",
    "1. Restore Data by following below steps\n",
    "\n",
    "    https://docs.microsoft.com/en-us/sql/samples/adventureworks-install-configure?view=sql-server-ver15#restore-backup"
   ]
  },
  {
   "cell_type": "markdown",
   "metadata": {},
   "source": [
    "## Install SQL Server Analysis Services\n",
    "1. Start > Microsoft SQL Server 2019 > SQL Server 2019 Installation Center (64-bit)\n",
    "1. Click on Installation > New Sql Server Stand alone installation or add Features to existing installation\n",
    "https://github.com/rritec/powerbi/blob/master/images/PBI_0139.png?raw=true\n"
   ]
  }
 ],
 "metadata": {
  "kernelspec": {
   "display_name": "Python 3",
   "language": "python",
   "name": "python3"
  },
  "language_info": {
   "codemirror_mode": {
    "name": "ipython",
    "version": 3
   },
   "file_extension": ".py",
   "mimetype": "text/x-python",
   "name": "python",
   "nbconvert_exporter": "python",
   "pygments_lexer": "ipython3",
   "version": "3.6.9"
  }
 },
 "nbformat": 4,
 "nbformat_minor": 4
}
