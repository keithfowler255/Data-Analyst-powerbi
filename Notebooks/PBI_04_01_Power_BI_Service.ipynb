{
 "cells": [
  {
   "cell_type": "markdown",
   "metadata": {},
   "source": [
    "# Power BI Service"
   ]
  },
  {
   "cell_type": "markdown",
   "metadata": {},
   "source": [
    "## Exercise 1- Upload PBI Report and Pin Visualizations\n",
    "\n",
    "1. Open the **Labdata/Lab4/Lab 4 Starting.pbix** file.\n",
    "1. On the **Home ribbon**, click **Publish**.\n",
    "1. In Select a destination, select **My workspace**, and click **Select**.\n",
    "1. If prompted, sign in using the account you used to sign up for the Power BI service.\n",
    "1. Once the report is published, click Got it.\n",
    "1. Start an Internet browser, go to https://app.powerbi.com/, and click Sign in.\n",
    "1. Sign in using your account.\n",
    "1. Go to the **Lab 4 Starting Report** and explore your published report. It looks similar to the one in Power BI Desktop file. Now you can start creating a dashboard by pinning some visualizations.\n",
    "1. Go to the **Sales Report** tab and pin the chart showing **Total Sales by Category and Segment** (100% Stacked Bar Chart). Select to create a New dashboard and name it **VanArsdel Sales**.\n",
    "1. Pin the **treemap chart**, **the scatter chart**, and the **map** visualization from the Sales Report tab to the **VanArsdel Sales** dashboard.\n",
    "1. Go to the **Yearly Trend** tab and pin the **waterfall chart** that shows the Sales Var by Year to the VanArsdel Sales dashboard.\n",
    "1. Go to the VanArsdel Sales dashboard and review what you have created.\n",
    "1. Resize and arrange the tiles as necessary.\n",
    "1. On the top-right, click Web view and click Phone view.\n",
    "1. Review the phone view.\n",
    "1. Resize and arrange the tiles as necessary.\n",
    "1. You should have something similar to the below:"
   ]
  }
 ],
 "metadata": {
  "kernelspec": {
   "display_name": "Python 3",
   "language": "python",
   "name": "python3"
  },
  "language_info": {
   "codemirror_mode": {
    "name": "ipython",
    "version": 3
   },
   "file_extension": ".py",
   "mimetype": "text/x-python",
   "name": "python",
   "nbconvert_exporter": "python",
   "pygments_lexer": "ipython3",
   "version": "3.6.9"
  },
  "toc-autonumbering": true
 },
 "nbformat": 4,
 "nbformat_minor": 4
}
