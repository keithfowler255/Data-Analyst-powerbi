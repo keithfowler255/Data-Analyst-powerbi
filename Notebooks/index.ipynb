{
 "cells": [
  {
   "cell_type": "markdown",
   "metadata": {},
   "source": [
    "# Power BI Demo"
   ]
  },
  {
   "cell_type": "markdown",
   "metadata": {},
   "source": [
    "##  What is BI ?\n",
    "- DSS"
   ]
  },
  {
   "cell_type": "markdown",
   "metadata": {},
   "source": [
    "## Do you know any BI tools?\n",
    "1. Cognos\n",
    "2. Bo\n",
    "3. OBIEE\n",
    "4. Tableau\n",
    "5. Domo\n",
    "6. Qlick View/Sense\n",
    "7. Power BI\n",
    "... etc"
   ]
  },
  {
   "cell_type": "markdown",
   "metadata": {},
   "source": [
    "- price is less\n",
    "    - https://powerbi.microsoft.com/en-us/pricing/\n",
    "    - https://www.tableau.com/pricing/teams-orgs#online\n",
    "- out of above all BI tools power BI is best\n",
    "    - https://powerbi.microsoft.com/en-us/blog/microsoft-named-a-leader-in-gartners-2020-magic-quadrant-for-analytics-and-bi-platforms/\n",
    "    - https://info.microsoft.com/ww-landing-Forrester-Wave-Enterprise-BI-platforms-website.html?LCID=EN-US\n",
    "    "
   ]
  },
  {
   "cell_type": "markdown",
   "metadata": {},
   "source": [
    "## Do you know Power BI products?\n",
    "1. Power BI Desktop \n",
    "    - Create rich,interactive reports with visual analytics at your fingertips\n",
    "    - Go from `data` →  `insight` →  `action` with Power BI Desktop\n",
    "    - Connect to your data, wherever it is\n",
    "    - Prep and model your data with ease\n",
    "    - Provide advanced analytics with the familiarity of Excel\n",
    "    - Create interactive reports customized for your business\n",
    "    - Power BI Desktop is nothing but three tools of excel \n",
    "        - Power Query or Power Query Editor\n",
    "        - Power Pivot\n",
    "        - Power View\n",
    "            - https://support.office.com/en-us/article/power-query-overview-and-learning-ed614c81-4b00-4291-bd3a-55d80767f81d\n",
    "            \n",
    "2. Power BI Service(MSFT Cloud)\n",
    "    - Dashboards are developed here\n",
    "    - Conduct data-driven collaboration\n",
    "    - Discover insights quickly\n",
    "    - Get more done with familiar tools\n",
    "    - Govern your data securely\n",
    "3. Power BI Mobile\n",
    "4. Power BI Embedded\n",
    "5. Power BI Report Server\n",
    "        "
   ]
  },
  {
   "cell_type": "markdown",
   "metadata": {},
   "source": [
    "## Install Power BI Desktop\n",
    "- download software https://www.microsoft.com/en-us/download/details.aspx?id=58494\n",
    "- Run the MSI installer and follow the setup steps    "
   ]
  },
  {
   "cell_type": "markdown",
   "metadata": {},
   "source": [
    "![](https://github.com/rritec/powerbi/blob/master/images/powerbiinstallation9.png?raw=true)\n",
    "![](https://github.com/rritec/powerbi/blob/master/images/powerbiinstallation8.png?raw=true)\n",
    "![](https://github.com/rritec/powerbi/blob/master/images/powerbiinstallation7.png?raw=true)\n",
    "![](https://github.com/rritec/powerbi/blob/master/images/powerbiinstallation6.png?raw=true)\n",
    "![](https://github.com/rritec/powerbi/blob/master/images/powerbiinstallation5.png?raw=true)\n",
    "![](https://github.com/rritec/powerbi/blob/master/images/powerbiinstallation4.png?raw=true)\n",
    "![](https://github.com/rritec/powerbi/blob/master/images/powerbiinstallation3.png?raw=true)\n",
    "![](https://github.com/rritec/powerbi/blob/master/images/powerbiinstallation2.png?raw=true)\n",
    "![](https://github.com/rritec/powerbi/blob/master/images/powerbiinstallation1.png?raw=true)"
   ]
  },
  {
   "cell_type": "code",
   "execution_count": null,
   "metadata": {},
   "outputs": [],
   "source": []
  }
 ],
 "metadata": {
  "kernelspec": {
   "display_name": "Python 3",
   "language": "python",
   "name": "python3"
  },
  "language_info": {
   "codemirror_mode": {
    "name": "ipython",
    "version": 3
   },
   "file_extension": ".py",
   "mimetype": "text/x-python",
   "name": "python",
   "nbconvert_exporter": "python",
   "pygments_lexer": "ipython3",
   "version": "3.6.9"
  },
  "toc-autonumbering": true
 },
 "nbformat": 4,
 "nbformat_minor": 4
}
