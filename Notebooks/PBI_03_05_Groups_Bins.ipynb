{
 "cells": [
  {
   "cell_type": "markdown",
   "metadata": {},
   "source": [
    "https://docs.microsoft.com/en-us/power-bi/desktop-grouping-and-binning"
   ]
  },
  {
   "cell_type": "markdown",
   "metadata": {},
   "source": [
    "1. Open file **Labdata/Lab3/Lab 3 - Starting.pbix** file.\n",
    "1. Expand **products** > Right click on **Segment** > Click on **New Group** > select as shown below\n",
    "\n",
    "    ![](https://github.com/rritec/powerbi/blob/master/images/PBI_0023.png?raw=true)\n",
    "\n",
    "1. click on **pie chart**\n",
    "1. drag **segment(groups)** into legend\n",
    "1. drag **totalsales** into values\n",
    "1. observe report\n",
    "\n",
    "    ![](https://github.com/rritec/powerbi/blob/master/images/PBI_0023.png?raw=true)\n"
   ]
  }
 ],
 "metadata": {
  "kernelspec": {
   "display_name": "Python 3",
   "language": "python",
   "name": "python3"
  },
  "language_info": {
   "codemirror_mode": {
    "name": "ipython",
    "version": 3
   },
   "file_extension": ".py",
   "mimetype": "text/x-python",
   "name": "python",
   "nbconvert_exporter": "python",
   "pygments_lexer": "ipython3",
   "version": "3.6.9"
  }
 },
 "nbformat": 4,
 "nbformat_minor": 4
}
