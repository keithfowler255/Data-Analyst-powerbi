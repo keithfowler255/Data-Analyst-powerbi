{
 "cells": [
  {
   "cell_type": "markdown",
   "metadata": {},
   "source": [
    "# Working with SQL Server"
   ]
  },
  {
   "cell_type": "markdown",
   "metadata": {},
   "source": [
    "## Load Data"
   ]
  },
  {
   "cell_type": "raw",
   "metadata": {},
   "source": [
    "CREATE DATABASE rritecDB;\n",
    "use rritecDB;\n",
    "\n",
    "CREATE TABLE [dbo].[DEPT]\n",
    "(DEPTNO INT PRIMARY KEY ,\n",
    "DNAME VARCHAR(20),\n",
    "LOC VARCHAR(20) );\n",
    "GO\n",
    "\n",
    "INSERT INTO [dbo].[DEPT] VALUES (10, 'ACCOUNTING', 'NEW YORK');\n",
    "INSERT INTO [dbo].[DEPT] VALUES (20, 'RESEARCH', 'DALLAS');\n",
    "INSERT INTO [dbo].[DEPT] VALUES (30, 'SALES', 'CHICAGO');\n",
    "INSERT INTO [dbo].[DEPT] VALUES (40, 'OPERATIONS', 'BOSTON');\n",
    "\n",
    "\n",
    "CREATE TABLE [dbo].[EMP]\n",
    "(EMPNO INT PRIMARY KEY,\n",
    "ENAME VARCHAR(20),\n",
    "JOB VARCHAR(20),\n",
    "MGR INT,\n",
    "HIREDATE DATE,\n",
    "SAL MONEY,\n",
    "COMM MONEY,\n",
    "DEPTNO INT FOREIGN KEY REFERENCES DEPT(DEPTNO) );\n",
    "GO\n",
    "\n",
    "INSERT INTO [dbo].[EMP] VALUES\n",
    "(7369, 'SMITH', 'CLERK', 7902, '17-DEC-1980', 800, NULL, 20);\n",
    "INSERT INTO [dbo].[EMP] VALUES\n",
    "(7499, 'ALLEN', 'SALESMAN', 7698, '20-FEB-1981', 1600, 300, 30);\n",
    "INSERT INTO [dbo].[EMP] VALUES\n",
    "(7521, 'WARD', 'SALESMAN', 7698, '22-FEB-1981', 1250, 500, 30);\n",
    "INSERT INTO [dbo].[EMP] VALUES\n",
    "(7566, 'JONES', 'MANAGER', 7839, '2-APR-1981', 2975, NULL, 20);\n",
    "INSERT INTO [dbo].[EMP] VALUES\n",
    "(7654, 'MARTIN', 'SALESMAN', 7698, '28-SEP-1981', 1250, 1400, 30);\n",
    "INSERT INTO [dbo].[EMP] VALUES\n",
    "(7698, 'BLAKE', 'MANAGER', 7839, '1-MAY-1981', 2850, NULL, 30);\n",
    "INSERT INTO [dbo].[EMP] VALUES\n",
    "(7782, 'CLARK', 'MANAGER', 7839, '9-JUN-1981', 2450, NULL, 10);\n",
    "INSERT INTO [dbo].[EMP] VALUES\n",
    "(7788, 'SCOTT', 'ANALYST', 7566, '09-DEC-1982', 3000, NULL, 20);\n",
    "INSERT INTO [dbo].[EMP] VALUES\n",
    "(7839, 'KING', 'PRESIDENT', NULL, '17-NOV-1981', 5000, NULL, 10);\n",
    "INSERT INTO [dbo].[EMP] VALUES\n",
    "(7844, 'TURNER', 'SALESMAN', 7698, '8-SEP-1981', 1500, 0, 30);\n",
    "INSERT INTO [dbo].[EMP] VALUES\n",
    "(7876, 'ADAMS', 'CLERK', 7788, '12-JAN-1983', 1100, NULL, 20);\n",
    "INSERT INTO [dbo].[EMP] VALUES\n",
    "(7900, 'JAMES', 'CLERK', 7698, '3-DEC-1981', 950, NULL, 30);\n",
    "INSERT INTO [dbo].[EMP] VALUES\n",
    "(7902, 'FORD', 'ANALYST', 7566, '3-DEC-1981', 3000, NULL, 20);\n",
    "INSERT INTO [dbo].[EMP] VALUES\n",
    "(7934, 'MILLER', 'CLERK', 7782, '23-JAN-1982', 1300, NULL, 10);\n",
    "\n",
    "CREATE TABLE [dbo].[BONUS]\n",
    "(ENAME VARCHAR(20),\n",
    "JOB VARCHAR(20),\n",
    "SAL MONEY,\n",
    "COMM MONEY);\n",
    "GO\n",
    "\n",
    "CREATE TABLE [dbo].[SALGRADE]\n",
    "(GRADE INT NOT NULL,\n",
    "LOSAL MONEY,\n",
    "HISAL MONEY );\n",
    "GO\n",
    "\n",
    "INSERT INTO [dbo].[SALGRADE] VALUES (1, 700, 1200);\n",
    "INSERT INTO [dbo].[SALGRADE] VALUES (2, 1201, 1400);\n",
    "INSERT INTO [dbo].[SALGRADE] VALUES (3, 1401, 2000);\n",
    "INSERT INTO [dbo].[SALGRADE] VALUES (4, 2001, 3000);\n",
    "INSERT INTO [dbo].[SALGRADE] VALUES (5, 3001, 9999);"
   ]
  },
  {
   "cell_type": "markdown",
   "metadata": {},
   "source": [
    "## Import below tables into Power BI\n",
    "1. emp\n",
    "1. dept\n",
    "1. salgrade"
   ]
  },
  {
   "cell_type": "markdown",
   "metadata": {},
   "source": [
    "1. Open **Power BI Desktop** > Click on **Get Data** > Click on **Databases** > select **SqlServer Database** > click on **connect**\n",
    "\n",
    "\n",
    " \n",
    "1. provider server as **localhost** > Database as **rritecDB** > Click on **ok**\n",
    "\n",
    "    \n",
    "    \n",
    "1. Select emp and dept tables > clcik on **LoadData** \n",
    "\n",
    "    \n"
   ]
  },
  {
   "cell_type": "markdown",
   "metadata": {},
   "source": [
    "## Do all exercise of Previous chapter excel import"
   ]
  },
  {
   "cell_type": "code",
   "execution_count": null,
   "metadata": {},
   "outputs": [],
   "source": []
  }
 ],
 "metadata": {
  "kernelspec": {
   "display_name": "Python 3",
   "language": "python",
   "name": "python3"
  },
  "language_info": {
   "codemirror_mode": {
    "name": "ipython",
    "version": 3
   },
   "file_extension": ".py",
   "mimetype": "text/x-python",
   "name": "python",
   "nbconvert_exporter": "python",
   "pygments_lexer": "ipython3",
   "version": "3.6.9"
  }
 },
 "nbformat": 4,
 "nbformat_minor": 4
}
