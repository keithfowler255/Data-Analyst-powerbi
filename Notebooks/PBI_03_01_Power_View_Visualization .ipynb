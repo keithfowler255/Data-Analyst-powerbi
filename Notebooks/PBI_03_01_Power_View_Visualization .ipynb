{
 "cells": [
  {
   "cell_type": "markdown",
   "metadata": {},
   "source": [
    "# Power BI Desktop Visualization "
   ]
  },
  {
   "cell_type": "markdown",
   "metadata": {},
   "source": [
    "## Exercise 1- Cross-Tabular Report\n",
    "- **Scenario:** You want to show VanArsdel's sales (revenue) and units for each month and year in a single report. You choose to show this using two Matrix visualizations."
   ]
  },
  {
   "cell_type": "markdown",
   "metadata": {},
   "source": [
    "1. Open file **Labdata/Lab3/Lab 3 - Starting.pbix** file.\n",
    "1. In the navigation pane on the left, click **Report**.\n",
    "1. In the **FIELDS** list, on the right, click the **Sales** table.\n",
    "1. Drag the **Total Sales** field from the **Sales** table to the report to create a chart.\n",
    "1. In the FIELDS list, on the right, click the **Date** table.\n",
    "1. Drag the **MonthName** and **Year** fields from the **Date** table to the chart.\n",
    "1. In the **VISUALIZATIONS** list, click **Matrix**.\n",
    "1. In the **VISUALIZATIONS** list, in **Rows**, select **MonthName**, in **Columns**, select **Year**, and in **Values**, select **Total Sales**.\n",
    "1. Click in the empty space of report\n",
    "1. Repeat Step 3 to 8 to add another chart, but this time, display the **Total Units** field in place of **Total Sales**.\n",
    "1. From the **Home** ribbon, click **Text** box.\n",
    "1. In the text box, type **VanArsdel Sales and Units** and resize and move the text box so that it appears as the title of the report.\n",
    "1. At the bottom of the screen, right-click **Page 1**, and click **Rename** Page.\n",
    "1. Type **Sales and Units** and press **Enter**.\n",
    "1. You should have something similar to the below Image:\n",
    "1. Click **Save**, to save the Power BI file.    "
   ]
  },
  {
   "cell_type": "markdown",
   "metadata": {},
   "source": [
    "## Exercise 2- Part-to-Whole Report\n",
    "**Scenario:** analyzing sales data by product category, segment and manufacturer."
   ]
  },
  {
   "cell_type": "markdown",
   "metadata": {},
   "source": [
    "1. Create a new report page by clicking **New Page (+)** at the bottom of the report view.\n",
    "1. Drag the **Total Sales** field from the **Sales** table to the report and create a chart.\n",
    "1. Drag the **Category** and **Segment** fields from the **Products** table to the chart.\n",
    "1. In the **VISUALIZATIONS** list, click **100% Stacked Bar Chart** .\n",
    "1. In the **VISUALIZATIONS** list, in **Axis**, select **Category**, in **Legend**, select **Segment**, and in **Value**, select **Total Sales**.\n",
    "1. In the **VISUALIZATIONS** list, click the **Format** button.\n",
    "1. Click **Data** Labels.\n",
    "1. Set Data Labels to **On**.\n",
    "1. Set Value decimal places to **0**.\n",
    "1. Drag the Total Sales field from the Sales table to the report and create another chart.\n",
    "1. Drag the Manufacturer field from the Manufacturers table to the chart.\n",
    "1. Modify the chart to use the Treemap visualization.\n",
    "1. Drag the MonthName field from the Date table to the report and create another chart.\n",
    "1. Modify the chart to use the Slicer visualization.\n",
    "1. Drag the Year field from the Date table to the report and create a chart.\n",
    "1. Modify the chart to use the Slicer visualization.\n",
    "1. Rename the report sheet to Sales Breakdown.\n",
    "1. Click Save, to save the Power BI file.\n",
    "1. You should have something similar to the below:"
   ]
  },
  {
   "cell_type": "code",
   "execution_count": null,
   "metadata": {},
   "outputs": [],
   "source": []
  }
 ],
 "metadata": {
  "kernelspec": {
   "display_name": "Python 3",
   "language": "python",
   "name": "python3"
  },
  "language_info": {
   "codemirror_mode": {
    "name": "ipython",
    "version": 3
   },
   "file_extension": ".py",
   "mimetype": "text/x-python",
   "name": "python",
   "nbconvert_exporter": "python",
   "pygments_lexer": "ipython3",
   "version": "3.6.9"
  }
 },
 "nbformat": 4,
 "nbformat_minor": 4
}
