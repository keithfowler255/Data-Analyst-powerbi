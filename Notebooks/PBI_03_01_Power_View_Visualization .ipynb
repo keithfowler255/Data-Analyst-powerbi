{
 "cells": [
  {
   "cell_type": "markdown",
   "metadata": {},
   "source": [
    "# Power BI Desktop Visualization "
   ]
  },
  {
   "cell_type": "markdown",
   "metadata": {},
   "source": [
    "## Exercise 1- Cross-Tabular Report\n",
    "- **Scenario:** You want to show VanArsdel's sales (revenue) and units for each month and year in a single report. You choose to show this using two Matrix visualizations."
   ]
  },
  {
   "cell_type": "markdown",
   "metadata": {},
   "source": [
    "1. Open file **Labdata/Lab3/Lab 3 - Starting.pbix** file.\n",
    "1. In the navigation pane on the left, click **Report**.\n",
    "1. In the **FIELDS** list, on the right, click the **Sales** table.\n",
    "1. Drag the **Total Sales** field from the **Sales** table to the report to create a chart.\n",
    "1. In the FIELDS list, on the right, click the **Date** table.\n",
    "1. Drag the **MonthName** and **Year** fields from the **Date** table to the chart.\n",
    "1. In the **VISUALIZATIONS** list, click **Matrix**.\n",
    "1. In the **VISUALIZATIONS** list, in **Rows**, select **MonthName**, in **Columns**, select **Year**, and in **Values**, select **Total Sales**.\n",
    "1. Click in the empty space of report\n",
    "1. Repeat Step 3 to 8 to add another chart, but this time, display the **Total Units** field in place of **Total Sales**.\n",
    "1. From the **Home** ribbon, click **Text** box.\n",
    "1. In the text box, type **VanArsdel Sales and Units** and resize and move the text box so that it appears as the title of the report.\n",
    "1. At the bottom of the screen, right-click **Page 1**, and click **Rename** Page.\n",
    "1. Type **Sales and Units** and press **Enter**.\n",
    "1. You should have something similar to the below:\n",
    "1. Click Save, to save the Power BI file.    "
   ]
  },
  {
   "cell_type": "code",
   "execution_count": null,
   "metadata": {},
   "outputs": [],
   "source": []
  }
 ],
 "metadata": {
  "kernelspec": {
   "display_name": "Python 3",
   "language": "python",
   "name": "python3"
  },
  "language_info": {
   "codemirror_mode": {
    "name": "ipython",
    "version": 3
   },
   "file_extension": ".py",
   "mimetype": "text/x-python",
   "name": "python",
   "nbconvert_exporter": "python",
   "pygments_lexer": "ipython3",
   "version": "3.6.9"
  }
 },
 "nbformat": 4,
 "nbformat_minor": 4
}
